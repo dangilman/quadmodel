{
 "cells": [
  {
   "cell_type": "code",
   "execution_count": null,
   "metadata": {},
   "outputs": [],
   "source": [
    "from quadmodel.inference.forward_model import forward_model\n",
    "import os\n",
    "import numpy as np\n",
    "import matplotlib.pyplot as plt"
   ]
  },
  {
   "cell_type": "markdown",
   "metadata": {},
   "source": [
    "### Generating distributions of a summary statistic for dark matter models \n",
    "\n",
    "This produces curves like Figure 3 from https://ui.adsabs.harvard.edu/abs/2019MNRAS.487.5721G/abstract"
   ]
  },
  {
   "cell_type": "code",
   "execution_count": null,
   "metadata": {},
   "outputs": [],
   "source": [
    "from lenstronomy.LensModel.lens_model import LensModel\n",
    "from lenstronomy.LensModel.Solver.lens_equation_solver import LensEquationSolver\n",
    "import matplotlib.pyplot as plt\n",
    "import numpy as np\n",
    "\n",
    "\n",
    "lens_model = LensModel(['EPL', 'SHEAR'])\n",
    "kwargs_lens = [{'theta_E': 1.0, 'center_x': 0.0, 'center_y': 0.0, 'e1': -0.1, 'e2': 0.03, 'gamma': 2.0}, \n",
    "               {'gamma1': 0.04, 'gamma2': -0.07}]\n",
    "shear_strength = np.hypot(0.04, 0.07)\n",
    "\n",
    "source_x, source_y = 0.04, -0.02\n",
    "solver = LensEquationSolver(lens_model)\n",
    "x_image, y_image = solver.image_position_from_source(source_x, source_y, kwargs_lens)\n",
    "magnification = lens_model.magnification(x_image, y_image, kwargs_lens)\n",
    "magnification = np.absolute(magnification)\n",
    "plt.scatter(x_image, y_image, color='k')\n",
    "plt.xlim(-1.5, 1.5)\n",
    "plt.ylim(-1.5, 1.5)\n",
    "for (xi, yi, mi) in zip(x_image, y_image, magnification):\n",
    "    plt.annotate(str(np.round(mi,2)), xy=(xi+0.1, yi+0.05))\n",
    "normalized_magnifications = magnification/magnification[0]\n",
    "print(normalized_magnifications)"
   ]
  },
  {
   "cell_type": "code",
   "execution_count": null,
   "metadata": {},
   "outputs": [],
   "source": [
    "from quadmodel.data.quad_base import Quad\n",
    "\n",
    "class SimulatedData(Quad):\n",
    "    \n",
    "    def __init__(self, x, y, m, sourcemodel_type='midIR_Gaussian',\n",
    "                 macromodel_type='EPL_FIXED_SHEAR', kwargs_macromodel={}):\n",
    "        \n",
    "        delta_m = 0.001 * np.array(m) # basically no flux uncertainties\n",
    "        delta_xy = [0.0001] * 4 # basically no image position uncertainties\n",
    "        keep_flux_ratio_index = [0, 1, 2] # keep all three flux ratios\n",
    "        zlens = 0.5\n",
    "        zsource = 2.0\n",
    "        \n",
    "        super(SimulatedData, self).__init__(zlens, zsource, x, y, m, delta_m, delta_xy, sourcemodel_type, {}, macromodel_type,\n",
    "                                    kwargs_macromodel, keep_flux_ratio_index)\n",
    "        \n",
    "simulated_data = SimulatedData(x_image, y_image, normalized_magnifications)\n",
    "\n"
   ]
  },
  {
   "cell_type": "code",
   "execution_count": null,
   "metadata": {},
   "outputs": [],
   "source": [
    "output_path = os.getcwd() + '/example_summary_stat_output/'\n",
    "job_index = 1\n",
    "n_keep = 100\n",
    "summary_statistic_tolerance = 1e4\n",
    "\n",
    "print(simulated_data.x)\n",
    "print(simulated_data.y)\n",
    "print(simulated_data.m)\n",
    "print(simulated_data.macromodel_type)\n",
    "realization_priors = {}\n",
    "realization_priors['PRESET_MODEL'] = 'CDM'\n",
    "realization_priors['sigma_sub'] = ['FIXED', 0.05]\n",
    "realization_priors['LOS_normalization'] = ['FIXED', 4.]\n",
    "realization_priors['log_m_host'] = ['FIXED', 13.3]\n",
    "realization_priors['log_mlow'] = ['FIXED', 9.0] # this sets the minimum halo mass to 10^9 for speedy demonstration purposes\n",
    "realization_priors['cone_opening_angle'] = ['FIXED', 8.0]\n",
    "macromodel_priors = {}\n",
    "macromodel_priors['gamma_macro_prior'] = [np.random.uniform, 1.95, 2.05]\n",
    "macromodel_priors['shear_strength_prior'] = [np.random.uniform, shear_strength-0.025, shear_strength+0.025]"
   ]
  },
  {
   "cell_type": "markdown",
   "metadata": {},
   "source": [
    "### Run the simulation"
   ]
  },
  {
   "cell_type": "code",
   "execution_count": null,
   "metadata": {
    "scrolled": false
   },
   "outputs": [],
   "source": [
    "test_mode = False # make figures of the convergence and lensed images; turn off when running on a cluster\n",
    "verbose = False # make print statements\n",
    "forward_model(output_path, job_index, simulated_data, n_keep, realization_priors, \n",
    "              macromodel_priors, tolerance=summary_statistic_tolerance,\n",
    "                  verbose=verbose, test_mode=test_mode, save_realizations=False)"
   ]
  },
  {
   "cell_type": "markdown",
   "metadata": {
    "scrolled": false
   },
   "source": [
    "### Examine the output\n",
    "\n",
    "Plot the cumulative distribution of the summary statistic values"
   ]
  },
  {
   "cell_type": "code",
   "execution_count": null,
   "metadata": {},
   "outputs": [],
   "source": [
    "n_files = 1\n",
    "statistic = np.array([])\n",
    "for i in range(1, n_files+1):\n",
    "    stat = np.loadtxt(output_path+'job_'+str(i)+'/parameters.txt',skiprows=1)[:,-2]\n",
    "    statistic = np.append(statistic, stat)\n",
    "\n",
    "s = np.linspace(0, 1., 10)\n",
    "x = []\n",
    "for xi in s:\n",
    "    n = np.sum(statistic > xi)\n",
    "    x.append(n)\n",
    "x = np.array(x)/len(statistic)\n",
    "\n",
    "plt.plot(s, x)"
   ]
  },
  {
   "cell_type": "code",
   "execution_count": null,
   "metadata": {},
   "outputs": [],
   "source": []
  }
 ],
 "metadata": {
  "kernelspec": {
   "display_name": "Python 3",
   "language": "python",
   "name": "python3"
  },
  "language_info": {
   "codemirror_mode": {
    "name": "ipython",
    "version": 3
   },
   "file_extension": ".py",
   "mimetype": "text/x-python",
   "name": "python",
   "nbconvert_exporter": "python",
   "pygments_lexer": "ipython3",
   "version": "3.8.10"
  }
 },
 "nbformat": 4,
 "nbformat_minor": 2
}
