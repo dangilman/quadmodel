{
 "cells": [
  {
   "cell_type": "code",
   "execution_count": 1,
   "metadata": {},
   "outputs": [],
   "source": [
    "from quadmodel.inference.forward_model import forward_model\n",
    "import os\n",
    "import numpy as np\n",
    "import matplotlib.pyplot as plt"
   ]
  },
  {
   "cell_type": "markdown",
   "metadata": {},
   "source": [
    "### Forward modeling image flux ratios with quadmodel\n",
    "\n",
    "In the following cell, we define the parameters we want to sample in the forward model, and set the lens data class"
   ]
  },
  {
   "cell_type": "code",
   "execution_count": 4,
   "metadata": {},
   "outputs": [
    {
     "name": "stdout",
     "output_type": "stream",
     "text": [
      "[0.88  1.    0.474 0.025]\n",
      "EPL_FIXED_SHEAR_MULTIPOLE\n",
      "0.08 0.4\n"
     ]
    }
   ],
   "source": [
    "output_path = os.getcwd() + '/example_inference_output/'\n",
    "job_index = 1\n",
    "n_keep = 4\n",
    "summary_statistic_tolerance = 1e4\n",
    "lens_data = 'B1422'\n",
    "from quadmodel.data.b1422 import B1422\n",
    "lens_data = B1422()\n",
    "print(lens_data.m)\n",
    "print(lens_data.macromodel_type)\n",
    "realization_priors = {}\n",
    "realization_priors['PRESET_MODEL'] = 'WDM'\n",
    "realization_priors['sigma_sub'] = ['UNIFORM', 0.0, 0.1]\n",
    "realization_priors['LOS_normalization'] = ['FIXED', 1.]\n",
    "realization_priors['log_mc'] = ['UNIFORM', 4.8, 10.0]\n",
    "realization_priors['log_m_host'] = ['FIXED', 13.3]\n",
    "\n",
    "macromodel_priors = {}\n",
    "macromodel_priors['m4_amplitude_prior'] = [np.random.normal, 0.0, 0.01]\n",
    "macromodel_priors['gamma_macro_prior'] = [np.random.uniform, 1.8, 2.3]\n",
    "# FOR A CUSTOM SHEAR PRIOR:\n",
    "# macromodel_priors['shear_strength_prior'] = [np.random.uniform, 0.05, 0.25]\n",
    "\n",
    "# the present lenses also have built-in shear priors determined based on what values get accepted after running ABC;\n",
    "# using a brooader prior, you will waste some time exploring parameter space that will get rejected\n",
    "shear_min, shear_max = lens_data.kwargs_macromodel['shear_amplitude_min'], lens_data.kwargs_macromodel['shear_amplitude_max']\n",
    "print(shear_min, shear_max)\n",
    "macromodel_priors['shear_strength_prior'] = [np.random.uniform, shear_min, shear_max]\n"
   ]
  },
  {
   "cell_type": "markdown",
   "metadata": {},
   "source": [
    "### Run the simulation"
   ]
  },
  {
   "cell_type": "code",
   "execution_count": 5,
   "metadata": {
    "scrolled": false
   },
   "outputs": [
    {
     "name": "stdout",
     "output_type": "stream",
     "text": [
      "reading output to files: \n",
      "/Users/danielgilman/Code/quadmodel/notebooks/example_inference_output/job_1/parameters.txt\n",
      "/Users/danielgilman/Code/quadmodel/notebooks/example_inference_output/job_1/fluxes.txt\n",
      "starting with 2 samples accepted, 2 remain\n",
      "existing magnifications:  [[0.611054 1.       0.381723 0.068976]\n",
      " [0.692226 1.       0.404612 0.207799]]\n",
      "samples remaining:  2\n",
      "importance weight for sample:  1.0\n",
      "sample (from realization samples):  [0.08483907 9.70426766]\n",
      "realization contains 32 halos.\n",
      "['sigma_sub', 'log_mc']\n",
      "realization hyper-parameters:  [0.08483907 9.70426766]\n",
      "['source_size_pc']\n",
      "source/lens parameters:  55.468561659883754\n",
      "['a_m_4', 'gamma_macro', 'gamma_ext']\n",
      "macromodel samples:  [-0.00627629  1.91122617  0.10544879]\n"
     ]
    },
    {
     "ename": "KeyboardInterrupt",
     "evalue": "",
     "output_type": "error",
     "traceback": [
      "\u001b[0;31m---------------------------------------------------------------------------\u001b[0m",
      "\u001b[0;31mKeyboardInterrupt\u001b[0m                         Traceback (most recent call last)",
      "\u001b[0;32m<ipython-input-5-4efbd5244ffd>\u001b[0m in \u001b[0;36m<module>\u001b[0;34m\u001b[0m\n\u001b[0;32m----> 1\u001b[0;31m forward_model(output_path, job_index, lens_data, n_keep, realization_priors, \n\u001b[0m\u001b[1;32m      2\u001b[0m               \u001b[0mmacromodel_priors\u001b[0m\u001b[0;34m,\u001b[0m \u001b[0mtolerance\u001b[0m\u001b[0;34m=\u001b[0m\u001b[0msummary_statistic_tolerance\u001b[0m\u001b[0;34m,\u001b[0m\u001b[0;34m\u001b[0m\u001b[0;34m\u001b[0m\u001b[0m\n\u001b[1;32m      3\u001b[0m                   verbose=True, test_mode=True, save_realizations=True)\n",
      "\u001b[0;32m~/Code/quadmodel/quadmodel/inference/forward_model.py\u001b[0m in \u001b[0;36mforward_model\u001b[0;34m(output_path, job_index, lens_data_class, n_keep, kwargs_sample_realization, kwargs_sample_macromodel, tolerance, verbose, readout_steps, kwargs_realization_other, ray_tracing_optimization, test_mode, save_realizations, crit_curves_in_test_mode, write_sampling_rate, importance_weights_function, readout_macromodel_samples, n_macro, realization_class, shift_background_realization)\u001b[0m\n\u001b[1;32m    140\u001b[0m \u001b[0;34m\u001b[0m\u001b[0m\n\u001b[1;32m    141\u001b[0m         \u001b[0mstat\u001b[0m\u001b[0;34m,\u001b[0m \u001b[0mrealization_samples\u001b[0m\u001b[0;34m,\u001b[0m \u001b[0msource_samples\u001b[0m\u001b[0;34m,\u001b[0m \u001b[0mmacromodel_samples\u001b[0m\u001b[0;34m,\u001b[0m \u001b[0mparam_names_realization\u001b[0m\u001b[0;34m,\u001b[0m\u001b[0;31m \u001b[0m\u001b[0;31m\\\u001b[0m\u001b[0;34m\u001b[0m\u001b[0;34m\u001b[0m\u001b[0m\n\u001b[0;32m--> 142\u001b[0;31m         param_names_source, param_names_macro, lens_system, lens_data_class_sampling, importance_weight, model_mags = _evaluate_model(lens_data_class, kwargs_sample_realization, kwargs_realization_other,\n\u001b[0m\u001b[1;32m    143\u001b[0m                                                                 \u001b[0mkwargs_sample_macromodel\u001b[0m\u001b[0;34m,\u001b[0m \u001b[0mray_tracing_optimization\u001b[0m\u001b[0;34m,\u001b[0m \u001b[0mtest_mode\u001b[0m\u001b[0;34m,\u001b[0m\u001b[0;34m\u001b[0m\u001b[0;34m\u001b[0m\u001b[0m\n\u001b[1;32m    144\u001b[0m                                                                 \u001b[0mverbose\u001b[0m\u001b[0;34m,\u001b[0m \u001b[0mcrit_curves_in_test_mode\u001b[0m\u001b[0;34m,\u001b[0m\u001b[0;34m\u001b[0m\u001b[0;34m\u001b[0m\u001b[0m\n",
      "\u001b[0;32m~/Code/quadmodel/quadmodel/inference/forward_model.py\u001b[0m in \u001b[0;36m_evaluate_model\u001b[0;34m(lens_data_class, kwargs_sample_realization, kwargs_realization_other, kwargs_sample_macromodel, ray_tracing_optimization, test_mode, verbose, crit_curves_in_test_mode, importance_weights_function, reoptimize_initial_fit, realization_class, shift_background_realization)\u001b[0m\n\u001b[1;32m    334\u001b[0m \u001b[0;34m\u001b[0m\u001b[0m\n\u001b[1;32m    335\u001b[0m     \u001b[0moptimizer\u001b[0m \u001b[0;34m=\u001b[0m \u001b[0mHierarchicalOptimization\u001b[0m\u001b[0;34m(\u001b[0m\u001b[0mlens_system\u001b[0m\u001b[0;34m,\u001b[0m \u001b[0msettings_class\u001b[0m\u001b[0;34m=\u001b[0m\u001b[0mray_tracing_optimization\u001b[0m\u001b[0;34m)\u001b[0m\u001b[0;34m\u001b[0m\u001b[0;34m\u001b[0m\u001b[0m\n\u001b[0;32m--> 336\u001b[0;31m     kwargs_lens_final, lens_model_full, return_kwargs = optimizer.optimize(lens_data_class_sampling,\n\u001b[0m\u001b[1;32m    337\u001b[0m                                                                            \u001b[0mconstrain_params\u001b[0m\u001b[0;34m=\u001b[0m\u001b[0mconstrain_params_macro\u001b[0m\u001b[0;34m,\u001b[0m\u001b[0;34m\u001b[0m\u001b[0;34m\u001b[0m\u001b[0m\n\u001b[1;32m    338\u001b[0m                                                                            \u001b[0mparam_class_name\u001b[0m\u001b[0;34m=\u001b[0m\u001b[0moptimization_routine\u001b[0m\u001b[0;34m,\u001b[0m\u001b[0;34m\u001b[0m\u001b[0;34m\u001b[0m\u001b[0m\n",
      "\u001b[0;32m~/Code/quadmodel/quadmodel/Solvers/hierachical.py\u001b[0m in \u001b[0;36moptimize\u001b[0;34m(self, data_to_fit, param_class_name, constrain_params, verbose)\u001b[0m\n\u001b[1;32m     45\u001b[0m             \u001b[0;32mif\u001b[0m \u001b[0mrun\u001b[0m \u001b[0;34m==\u001b[0m \u001b[0;36m0\u001b[0m\u001b[0;34m:\u001b[0m\u001b[0;34m\u001b[0m\u001b[0;34m\u001b[0m\u001b[0m\n\u001b[1;32m     46\u001b[0m                 \u001b[0muse_pso\u001b[0m \u001b[0;34m=\u001b[0m \u001b[0;32mTrue\u001b[0m\u001b[0;34m\u001b[0m\u001b[0;34m\u001b[0m\u001b[0m\n\u001b[0;32m---> 47\u001b[0;31m                 ray_x_interp, ray_y_interp = interpolate_ray_paths_system(data_to_fit.x, data_to_fit.y,\n\u001b[0m\u001b[1;32m     48\u001b[0m                                                                           \u001b[0mself\u001b[0m\u001b[0;34m.\u001b[0m\u001b[0mlens_system\u001b[0m\u001b[0;34m,\u001b[0m\u001b[0;34m\u001b[0m\u001b[0;34m\u001b[0m\u001b[0m\n\u001b[1;32m     49\u001b[0m                                                                           include_substructure=False)\n",
      "\u001b[0;32m~/Code/quadmodel/quadmodel/util.py\u001b[0m in \u001b[0;36minterpolate_ray_paths_system\u001b[0;34m(x_image, y_image, lens_system, include_substructure, realization, terminate_at_source, source_x, source_y)\u001b[0m\n\u001b[1;32m    106\u001b[0m     \u001b[0mzsource\u001b[0m \u001b[0;34m=\u001b[0m \u001b[0mlens_system\u001b[0m\u001b[0;34m.\u001b[0m\u001b[0mzsource\u001b[0m\u001b[0;34m\u001b[0m\u001b[0;34m\u001b[0m\u001b[0m\n\u001b[1;32m    107\u001b[0m \u001b[0;34m\u001b[0m\u001b[0m\n\u001b[0;32m--> 108\u001b[0;31m     return interpolate_ray_paths(x_image, y_image, lens_model, kwargs_lens, zsource,\n\u001b[0m\u001b[1;32m    109\u001b[0m                                  terminate_at_source, source_x, source_y)\n",
      "\u001b[0;32m~/Code/quadmodel/quadmodel/util.py\u001b[0m in \u001b[0;36minterpolate_ray_paths\u001b[0;34m(x_image, y_image, lens_model, kwargs_lens, zsource, terminate_at_source, source_x, source_y)\u001b[0m\n\u001b[1;32m     87\u001b[0m     \u001b[0;32mfor\u001b[0m \u001b[0;34m(\u001b[0m\u001b[0mxi\u001b[0m\u001b[0;34m,\u001b[0m \u001b[0myi\u001b[0m\u001b[0;34m)\u001b[0m \u001b[0;32min\u001b[0m \u001b[0mzip\u001b[0m\u001b[0;34m(\u001b[0m\u001b[0mx_image\u001b[0m\u001b[0;34m,\u001b[0m \u001b[0my_image\u001b[0m\u001b[0;34m)\u001b[0m\u001b[0;34m:\u001b[0m\u001b[0;34m\u001b[0m\u001b[0;34m\u001b[0m\u001b[0m\n\u001b[1;32m     88\u001b[0m \u001b[0;34m\u001b[0m\u001b[0m\n\u001b[0;32m---> 89\u001b[0;31m         \u001b[0mangle_x\u001b[0m\u001b[0;34m,\u001b[0m \u001b[0mangle_y\u001b[0m\u001b[0;34m,\u001b[0m \u001b[0mtz\u001b[0m \u001b[0;34m=\u001b[0m \u001b[0mray_angles\u001b[0m\u001b[0;34m(\u001b[0m\u001b[0mxi\u001b[0m\u001b[0;34m,\u001b[0m \u001b[0myi\u001b[0m\u001b[0;34m,\u001b[0m \u001b[0mlens_model\u001b[0m\u001b[0;34m,\u001b[0m \u001b[0mkwargs_lens\u001b[0m\u001b[0;34m,\u001b[0m \u001b[0mzsource\u001b[0m\u001b[0;34m)\u001b[0m\u001b[0;34m\u001b[0m\u001b[0;34m\u001b[0m\u001b[0m\n\u001b[0m\u001b[1;32m     90\u001b[0m \u001b[0;34m\u001b[0m\u001b[0m\n\u001b[1;32m     91\u001b[0m         \u001b[0;32mif\u001b[0m \u001b[0mterminate_at_source\u001b[0m\u001b[0;34m:\u001b[0m\u001b[0;34m\u001b[0m\u001b[0;34m\u001b[0m\u001b[0m\n",
      "\u001b[0;32m~/Code/quadmodel/quadmodel/util.py\u001b[0m in \u001b[0;36mray_angles\u001b[0;34m(alpha_x, alpha_y, lens_model, kwargs_lens, zsource)\u001b[0m\n\u001b[1;32m     46\u001b[0m         \u001b[0;32mif\u001b[0m \u001b[0mhasattr\u001b[0m\u001b[0;34m(\u001b[0m\u001b[0mlens_model\u001b[0m\u001b[0;34m,\u001b[0m \u001b[0;34m'lens_model'\u001b[0m\u001b[0;34m)\u001b[0m\u001b[0;34m:\u001b[0m\u001b[0;34m\u001b[0m\u001b[0;34m\u001b[0m\u001b[0m\n\u001b[1;32m     47\u001b[0m \u001b[0;34m\u001b[0m\u001b[0m\n\u001b[0;32m---> 48\u001b[0;31m             x0, y0, alpha_x, alpha_y = lens_model.lens_model.ray_shooting_partial(x0, y0, alpha_x, alpha_y, zstart, zi,\n\u001b[0m\u001b[1;32m     49\u001b[0m                                                                                   kwargs_lens)\n\u001b[1;32m     50\u001b[0m             \u001b[0md\u001b[0m \u001b[0;34m=\u001b[0m \u001b[0mcosmo_calc\u001b[0m\u001b[0;34m(\u001b[0m\u001b[0;36m0.\u001b[0m\u001b[0;34m,\u001b[0m \u001b[0mzi\u001b[0m\u001b[0;34m)\u001b[0m\u001b[0;34m\u001b[0m\u001b[0;34m\u001b[0m\u001b[0m\n",
      "\u001b[0;32m~/Code/external/lenstronomy/lenstronomy/LensModel/MultiPlane/multi_plane.py\u001b[0m in \u001b[0;36mray_shooting_partial\u001b[0;34m(self, x, y, alpha_x, alpha_y, z_start, z_stop, kwargs_lens, include_z_start, check_convention, T_ij_start, T_ij_end)\u001b[0m\n\u001b[1;32m    149\u001b[0m             \u001b[0mkwargs_lens\u001b[0m \u001b[0;34m=\u001b[0m \u001b[0mself\u001b[0m\u001b[0;34m.\u001b[0m\u001b[0m_convention\u001b[0m\u001b[0;34m(\u001b[0m\u001b[0mkwargs_lens\u001b[0m\u001b[0;34m)\u001b[0m\u001b[0;34m\u001b[0m\u001b[0;34m\u001b[0m\u001b[0m\n\u001b[1;32m    150\u001b[0m \u001b[0;34m\u001b[0m\u001b[0m\n\u001b[0;32m--> 151\u001b[0;31m         return self._multi_plane_base.ray_shooting_partial(x, y, alpha_x, alpha_y, z_start, z_stop, kwargs_lens,\n\u001b[0m\u001b[1;32m    152\u001b[0m                                                            \u001b[0minclude_z_start\u001b[0m\u001b[0;34m=\u001b[0m\u001b[0minclude_z_start\u001b[0m\u001b[0;34m,\u001b[0m \u001b[0mT_ij_start\u001b[0m\u001b[0;34m=\u001b[0m\u001b[0mT_ij_start\u001b[0m\u001b[0;34m,\u001b[0m\u001b[0;34m\u001b[0m\u001b[0;34m\u001b[0m\u001b[0m\n\u001b[1;32m    153\u001b[0m                                                            T_ij_end=T_ij_end)\n",
      "\u001b[0;32m~/Code/external/lenstronomy/lenstronomy/LensModel/MultiPlane/multi_plane_base.py\u001b[0m in \u001b[0;36mray_shooting_partial\u001b[0;34m(self, x, y, alpha_x, alpha_y, z_start, z_stop, kwargs_lens, include_z_start, T_ij_start, T_ij_end)\u001b[0m\n\u001b[1;32m    130\u001b[0m                 \u001b[0mdelta_T\u001b[0m \u001b[0;34m=\u001b[0m \u001b[0;36m0\u001b[0m\u001b[0;34m\u001b[0m\u001b[0;34m\u001b[0m\u001b[0m\n\u001b[1;32m    131\u001b[0m             \u001b[0;32melse\u001b[0m\u001b[0;34m:\u001b[0m\u001b[0;34m\u001b[0m\u001b[0;34m\u001b[0m\u001b[0m\n\u001b[0;32m--> 132\u001b[0;31m                 \u001b[0mdelta_T\u001b[0m \u001b[0;34m=\u001b[0m \u001b[0mself\u001b[0m\u001b[0;34m.\u001b[0m\u001b[0m_cosmo_bkg\u001b[0m\u001b[0;34m.\u001b[0m\u001b[0mT_xy\u001b[0m\u001b[0;34m(\u001b[0m\u001b[0mz_lens_last\u001b[0m\u001b[0;34m,\u001b[0m \u001b[0mz_stop\u001b[0m\u001b[0;34m)\u001b[0m\u001b[0;34m\u001b[0m\u001b[0;34m\u001b[0m\u001b[0m\n\u001b[0m\u001b[1;32m    133\u001b[0m         \u001b[0;32melse\u001b[0m\u001b[0;34m:\u001b[0m\u001b[0;34m\u001b[0m\u001b[0;34m\u001b[0m\u001b[0m\n\u001b[1;32m    134\u001b[0m             \u001b[0mdelta_T\u001b[0m \u001b[0;34m=\u001b[0m \u001b[0mT_ij_end\u001b[0m\u001b[0;34m\u001b[0m\u001b[0;34m\u001b[0m\u001b[0m\n",
      "\u001b[0;32m~/Code/external/lenstronomy/lenstronomy/Cosmo/background.py\u001b[0m in \u001b[0;36mT_xy\u001b[0;34m(self, z_observer, z_source)\u001b[0m\n\u001b[1;32m     67\u001b[0m         \u001b[0;34m:\u001b[0m\u001b[0;32mreturn\u001b[0m\u001b[0;34m:\u001b[0m \u001b[0mtransverse\u001b[0m \u001b[0mcomoving\u001b[0m \u001b[0mdistance\u001b[0m \u001b[0;32min\u001b[0m \u001b[0munits\u001b[0m \u001b[0mof\u001b[0m \u001b[0mMpc\u001b[0m\u001b[0;34m\u001b[0m\u001b[0;34m\u001b[0m\u001b[0m\n\u001b[1;32m     68\u001b[0m         \"\"\"\n\u001b[0;32m---> 69\u001b[0;31m         \u001b[0mD_xy\u001b[0m \u001b[0;34m=\u001b[0m \u001b[0mself\u001b[0m\u001b[0;34m.\u001b[0m\u001b[0md_xy\u001b[0m\u001b[0;34m(\u001b[0m\u001b[0mz_observer\u001b[0m\u001b[0;34m,\u001b[0m \u001b[0mz_source\u001b[0m\u001b[0;34m)\u001b[0m\u001b[0;34m\u001b[0m\u001b[0;34m\u001b[0m\u001b[0m\n\u001b[0m\u001b[1;32m     70\u001b[0m         \u001b[0mT_xy\u001b[0m \u001b[0;34m=\u001b[0m \u001b[0mD_xy\u001b[0m \u001b[0;34m*\u001b[0m \u001b[0;34m(\u001b[0m\u001b[0;36m1\u001b[0m \u001b[0;34m+\u001b[0m \u001b[0mz_source\u001b[0m\u001b[0;34m)\u001b[0m\u001b[0;34m\u001b[0m\u001b[0;34m\u001b[0m\u001b[0m\n\u001b[1;32m     71\u001b[0m         \u001b[0;32mreturn\u001b[0m \u001b[0mT_xy\u001b[0m\u001b[0;34m\u001b[0m\u001b[0;34m\u001b[0m\u001b[0m\n",
      "\u001b[0;32m~/Code/external/lenstronomy/lenstronomy/Cosmo/background.py\u001b[0m in \u001b[0;36md_xy\u001b[0;34m(self, z_observer, z_source)\u001b[0m\n\u001b[1;32m     47\u001b[0m         \u001b[0;34m:\u001b[0m\u001b[0;32mreturn\u001b[0m\u001b[0;34m:\u001b[0m \u001b[0mangular\u001b[0m \u001b[0mdiameter\u001b[0m \u001b[0mdistance\u001b[0m \u001b[0;32min\u001b[0m \u001b[0munits\u001b[0m \u001b[0mof\u001b[0m \u001b[0mMpc\u001b[0m\u001b[0;34m\u001b[0m\u001b[0;34m\u001b[0m\u001b[0m\n\u001b[1;32m     48\u001b[0m         \"\"\"\n\u001b[0;32m---> 49\u001b[0;31m         \u001b[0mD_xy\u001b[0m \u001b[0;34m=\u001b[0m \u001b[0mself\u001b[0m\u001b[0;34m.\u001b[0m\u001b[0mcosmo\u001b[0m\u001b[0;34m.\u001b[0m\u001b[0mangular_diameter_distance_z1z2\u001b[0m\u001b[0;34m(\u001b[0m\u001b[0mz_observer\u001b[0m\u001b[0;34m,\u001b[0m \u001b[0mz_source\u001b[0m\u001b[0;34m)\u001b[0m\u001b[0;34m\u001b[0m\u001b[0;34m\u001b[0m\u001b[0m\n\u001b[0m\u001b[1;32m     50\u001b[0m         \u001b[0;32mreturn\u001b[0m \u001b[0mD_xy\u001b[0m\u001b[0;34m.\u001b[0m\u001b[0mvalue\u001b[0m\u001b[0;34m\u001b[0m\u001b[0;34m\u001b[0m\u001b[0m\n\u001b[1;32m     51\u001b[0m \u001b[0;34m\u001b[0m\u001b[0m\n",
      "\u001b[0;32m~/anaconda3/lib/python3.8/site-packages/astropy/cosmology/flrw/base.py\u001b[0m in \u001b[0;36mangular_diameter_distance_z1z2\u001b[0;34m(self, z1, z2)\u001b[0m\n\u001b[1;32m   1280\u001b[0m         \"\"\"\n\u001b[1;32m   1281\u001b[0m         \u001b[0mz1\u001b[0m\u001b[0;34m,\u001b[0m \u001b[0mz2\u001b[0m \u001b[0;34m=\u001b[0m \u001b[0maszarr\u001b[0m\u001b[0;34m(\u001b[0m\u001b[0mz1\u001b[0m\u001b[0;34m)\u001b[0m\u001b[0;34m,\u001b[0m \u001b[0maszarr\u001b[0m\u001b[0;34m(\u001b[0m\u001b[0mz2\u001b[0m\u001b[0;34m)\u001b[0m\u001b[0;34m\u001b[0m\u001b[0;34m\u001b[0m\u001b[0m\n\u001b[0;32m-> 1282\u001b[0;31m         \u001b[0;32mif\u001b[0m \u001b[0mnp\u001b[0m\u001b[0;34m.\u001b[0m\u001b[0many\u001b[0m\u001b[0;34m(\u001b[0m\u001b[0mz2\u001b[0m \u001b[0;34m<\u001b[0m \u001b[0mz1\u001b[0m\u001b[0;34m)\u001b[0m\u001b[0;34m:\u001b[0m\u001b[0;34m\u001b[0m\u001b[0;34m\u001b[0m\u001b[0m\n\u001b[0m\u001b[1;32m   1283\u001b[0m             warnings.warn(\n\u001b[1;32m   1284\u001b[0m                 \u001b[0;34mf\"Second redshift(s) z2 ({z2}) is less than first \"\u001b[0m\u001b[0;34m\u001b[0m\u001b[0;34m\u001b[0m\u001b[0m\n",
      "\u001b[0;32m~/anaconda3/lib/python3.8/site-packages/numpy/core/overrides.py\u001b[0m in \u001b[0;36many\u001b[0;34m(*args, **kwargs)\u001b[0m\n",
      "\u001b[0;31mKeyboardInterrupt\u001b[0m: "
     ]
    }
   ],
   "source": [
    "forward_model(output_path, job_index, lens_data, n_keep, realization_priors, \n",
    "              macromodel_priors, tolerance=summary_statistic_tolerance,\n",
    "                  verbose=True, test_mode=True, save_realizations=True)"
   ]
  },
  {
   "cell_type": "markdown",
   "metadata": {
    "scrolled": false
   },
   "source": [
    "### Examine the output\n",
    "\n",
    "The simulation output includes files named fluxes.txt, parameters.txt, and simulation_output_1, simulation_output_2, etc."
   ]
  },
  {
   "cell_type": "code",
   "execution_count": null,
   "metadata": {},
   "outputs": [],
   "source": [
    "f = open(output_path + 'job_'+str(job_index)+'/parameters.txt', 'r')\n",
    "param_names = f.readlines()[0]\n",
    "print('PARAMETER NAMES:')\n",
    "print(param_names)\n",
    "f.close()\n",
    "\n",
    "accepeted_parameters = np.loadtxt(output_path + 'job_'+str(job_index)+'/parameters.txt', skiprows=1)\n",
    "print('ACCEPTED PARAMETERS:')\n",
    "print(accepeted_parameters)\n",
    "# the first set of parameters are the ones specified in kwargs_realization (see cell #2), the rest are the source size, \n",
    "# macromodel parameters, and the last parameter is the summary statistic\n",
    "\n",
    "accepeted_mags = np.loadtxt(output_path + 'job_'+str(job_index)+'/fluxes.txt')\n",
    "print('\\nACCEPTED MAGNIFICATIONS:')\n",
    "print(accepeted_mags)"
   ]
  },
  {
   "cell_type": "markdown",
   "metadata": {},
   "source": [
    "### Visualize accepeted realizations\n",
    "\n",
    "The pickeled classes in simulation_output allow you to visualize the accepeted realizations"
   ]
  },
  {
   "cell_type": "code",
   "execution_count": null,
   "metadata": {},
   "outputs": [],
   "source": [
    "import pickle\n",
    "f = open(output_path + 'job_'+str(job_index)+'/simulation_output_1', 'rb')\n",
    "simulation_output = pickle.load(f)\n",
    "x_image, y_image = simulation_output.data.x, simulation_output.data.y\n",
    "lens_system = simulation_output.lens_system\n",
    "\n",
    "npix = 150\n",
    "rminmax = 1.25\n",
    "_r = np.linspace(-rminmax, rminmax, npix)\n",
    "xx, yy = np.meshgrid(_r, _r)\n",
    "shape0 = xx.shape\n",
    "lensmodel, kwargs_lens = lens_system.get_lensmodel()\n",
    "lensmodel_macro, kwargs_macro = lens_system.get_lensmodel(include_substructure=False)\n",
    "\n",
    "kappa = lensmodel.kappa(xx.ravel(), yy.ravel(), kwargs_lens).reshape(shape0)\n",
    "kappa_macro = lensmodel_macro.kappa(xx.ravel(), yy.ravel(), kwargs_lens).reshape(shape0)"
   ]
  },
  {
   "cell_type": "code",
   "execution_count": null,
   "metadata": {},
   "outputs": [],
   "source": [
    "import matplotlib.pyplot as plt\n",
    "\n",
    "vminmax = 0.05\n",
    "kappa_subs_nonlinear = kappa - kappa_macro\n",
    "extent = [-rminmax, rminmax, -rminmax, rminmax]\n",
    "\n",
    "fig = plt.figure(1)\n",
    "fig.set_size_inches(8, 8)\n",
    "plt.imshow(kappa_subs_nonlinear, vmin=-vminmax, vmax=vminmax, origin='lower', cmap='bwr', \n",
    "           extent=extent)\n",
    "plt.scatter(x_image, y_image, color='k')\n",
    "plt.show()\n",
    "\n",
    "source_size_pc = accepeted_parameters[0, 4]\n",
    "lens_system.plot_images(x_image, y_image, source_size_pc, lensmodel, kwargs_lens)"
   ]
  },
  {
   "cell_type": "markdown",
   "metadata": {},
   "source": [
    "Using the plot_images routine in lens_system, you can also ray trace through the lens system to see what the images look like (or how they would look with an ridiculously large telescope and no PSF) "
   ]
  },
  {
   "cell_type": "code",
   "execution_count": null,
   "metadata": {},
   "outputs": [],
   "source": []
  }
 ],
 "metadata": {
  "kernelspec": {
   "display_name": "Python 3",
   "language": "python",
   "name": "python3"
  },
  "language_info": {
   "codemirror_mode": {
    "name": "ipython",
    "version": 3
   },
   "file_extension": ".py",
   "mimetype": "text/x-python",
   "name": "python",
   "nbconvert_exporter": "python",
   "pygments_lexer": "ipython3",
   "version": "3.8.10"
  }
 },
 "nbformat": 4,
 "nbformat_minor": 2
}
