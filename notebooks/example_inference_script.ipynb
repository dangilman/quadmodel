{
 "cells": [
  {
   "cell_type": "code",
   "execution_count": 1,
   "metadata": {},
   "outputs": [],
   "source": [
    "from quadmodel.inference.forward_model import forward_model\n",
    "import os\n",
    "import numpy as np\n",
    "import matplotlib.pyplot as plt"
   ]
  },
  {
   "cell_type": "markdown",
   "metadata": {},
   "source": [
    "### Forward modeling image flux ratios with quadmodel\n",
    "\n",
    "In the following cell, we define the parameters we want to sample in the forward model, and set the lens data class"
   ]
  },
  {
   "cell_type": "code",
   "execution_count": 4,
   "metadata": {},
   "outputs": [
    {
     "name": "stdout",
     "output_type": "stream",
     "text": [
      "[0.96  0.976 1.    0.65 ]\n",
      "0.45\n",
      "1.69\n",
      "EPL_FREE_SHEAR_MULTIPOLE\n"
     ]
    }
   ],
   "source": [
    "output_path = os.getcwd() + '/example_inference_output/'\n",
    "job_index = 1\n",
    "n_keep = 2\n",
    "summary_statistic_tolerance = np.inf\n",
    "\n",
    "from quadmodel.data.b1422 import B1422\n",
    "from quadmodel.data.wgd2038 import WGD2038\n",
    "from quadmodel.data.rxj0911 import RXJ0911\n",
    "from quadmodel.data.he0435 import HE0435\n",
    "from quadmodel.data.pg1115 import PG1115 \n",
    "from quadmodel.data.wfi2033 import WFI2033\n",
    "from quadmodel.data.psj1606 import PSJ1606\n",
    "#lens_data = HE0435(macromodel_type='EPL_FREE_SHEAR')\n",
    "lens_data = HE0435(macromodel_type='EPL_FREE_SHEAR_MULTIPOLE')\n",
    "print(lens_data.m)\n",
    "print(lens_data.zlens)\n",
    "print(lens_data.zsource)\n",
    "print(lens_data.macromodel_type)\n",
    "realization_priors = {}\n",
    "realization_priors['PRESET_MODEL'] = 'WDM'\n",
    "realization_priors['log10_sigma_sub'] = ['UNIFORM', -1.5, -1.4]\n",
    "realization_priors['LOS_normalization'] = ['FIXED', 1.]\n",
    "realization_priors['log_mc'] = ['UNIFORM', 4.0, 4.1]\n",
    "realization_priors['log_m_host'] = ['FIXED', 13.3]\n",
    "realization_priors['log_mlow'] = ['FIXED', 6.0]\n",
    "\n",
    "macromodel_priors = {}\n",
    "macromodel_priors['m4_amplitude_prior'] = [np.random.normal, 0.0, 0.005]\n",
    "#macromodel_priors['m3_amplitude_prior'] = [np.random.normal, 0.0, 0.001]\n",
    "macromodel_priors['gamma_macro_prior'] = [np.random.uniform, 1.9, 2.2]\n",
    "\n",
    "# FOR A CUSTOM SHEAR PRIOR:\n",
    "# macromodel_priors['shear_strength_prior'] = [np.random.uniform, 0.05, 0.25]\n",
    "\n",
    "# the present lenses also have built-in shear priors determined based on what values get accepted after running ABC;\n",
    "# using a brooader prior, you will waste some time exploring parameter space that will get rejected\n",
    "# shear_min, shear_max = lens_data.kwargs_macromodel['shear_amplitude_min'], lens_data.kwargs_macromodel['shear_amplitude_max']\n",
    "# print(shear_min, shear_max)\n",
    "# macromodel_priors['shear_strength_prior'] = [np.random.uniform, shear_min, shear_max]\n"
   ]
  },
  {
   "cell_type": "markdown",
   "metadata": {},
   "source": [
    "### Run the simulation with seed 1 "
   ]
  },
  {
   "cell_type": "code",
   "execution_count": 5,
   "metadata": {
    "scrolled": false
   },
   "outputs": [
    {
     "name": "stdout",
     "output_type": "stream",
     "text": [
      "reading output to files: \n",
      "/Users/danielgilman/Code/quadmodel/notebooks/example_inference_output/job_1/parameters.txt\n",
      "/Users/danielgilman/Code/quadmodel/notebooks/example_inference_output/job_1/fluxes.txt\n",
      "starting with 0 samples accepted, 2 remain\n",
      "existing magnifications:  None\n",
      "samples remaining:  2\n",
      "running simulation with a summary statistic tolerance of:  inf\n",
      "importance weight for sample:  1.0\n",
      "sample (from realization samples):  [-1.43788662  4.05291421]\n",
      "realization contains 8713 halos.\n",
      "['log10_sigma_sub', 'log_mc']\n",
      "realization hyper-parameters:  [-1.43788662  4.05291421]\n",
      "['source_size_pc']\n",
      "source/lens parameters:  34.338954628600334\n",
      "['a_m_4', 'gamma_macro', 'theta_E', 'center_x', 'center_y']\n",
      "macromodel samples:  [-0.00373935  2.04827105  0.30053033 -1.94177022 -3.08997182]\n",
      "\n",
      "\n",
      "keyword arguments for realization: \n",
      "preset model function:  <function WDM at 0x7f89b28e3790>\n",
      "kwargs preset model:  {'sigma_sub': 0.036484918736406725, 'LOS_normalization': 1.0, 'log_mc': 4.052914209427704, 'log_m_host': 13.3, 'log_mlow': 6.0, 'cone_opening_angle_arcsec': 7.150148738959782}\n",
      "optimization 1\n",
      "aperture size (front):  100\n",
      "aperture size (back):  100\n",
      "log10 minimum mass anywhere (front):  7.0\n",
      "log10 minimum mass anywhere (back):  12\n",
      "log10 minimum mass in aperture (front):  7.0\n",
      "log10 minimum mass in aperture (back):  12\n",
      "N foreground halos:  115\n",
      "N subhalos:  772\n",
      "N background halos:  0\n",
      "10\n",
      "20\n",
      "30\n",
      "40\n",
      "50\n",
      "60\n",
      "70\n",
      "80\n",
      "90\n",
      "100\n",
      "PSO done... \n",
      "source plane chi^2:  79859.83318981821\n",
      "total chi^2:  79859.83318981821\n",
      "starting amoeba... \n",
      "optimization done.\n",
      "Recovered source position:  (array([-0.1536357 , -0.15363571, -0.15363571, -0.15363571]), array([-0.22912211, -0.22912213, -0.2291221 , -0.22912211]))\n",
      "aperture size (front):  0.3\n",
      "aperture size (back):  100\n",
      "log10 minimum mass anywhere (front):  7.0\n",
      "log10 minimum mass anywhere (back):  7.0\n",
      "log10 minimum mass in aperture (front):  -10\n",
      "log10 minimum mass in aperture (back):  7.0\n",
      "N foreground halos:  136\n",
      "N subhalos:  923\n",
      "N background halos:  247\n",
      "starting amoeba... \n",
      "optimization done.\n",
      "Recovered source position:  (array([-0.15525881, -0.15525882, -0.15525881, -0.15525883]), array([-0.2316268 , -0.2316268 , -0.23162681, -0.2316268 ]))\n",
      "aperture size (front):  0.3\n",
      "aperture size (back):  0.2\n",
      "log10 minimum mass anywhere (front):  7.0\n",
      "log10 minimum mass anywhere (back):  7.0\n",
      "log10 minimum mass in aperture (front):  -10\n",
      "log10 minimum mass in aperture (back):  -10\n",
      "N foreground halos:  136\n",
      "N subhalos:  923\n",
      "N background halos:  379\n",
      "starting amoeba... \n",
      "optimization done.\n",
      "Recovered source position:  (array([-0.15512949, -0.15512951, -0.15512951, -0.15512951]), array([-0.23150111, -0.23150111, -0.23150112, -0.23150112]))\n",
      "magnifications:  [6.71307349 6.66680434 8.21057363 4.7655427 ]\n"
     ]
    },
    {
     "ename": "KeyboardInterrupt",
     "evalue": "",
     "output_type": "error",
     "traceback": [
      "\u001b[0;31m---------------------------------------------------------------------------\u001b[0m",
      "\u001b[0;31mKeyboardInterrupt\u001b[0m                         Traceback (most recent call last)",
      "\u001b[0;32m<ipython-input-5-b4f723e20f91>\u001b[0m in \u001b[0;36m<module>\u001b[0;34m\u001b[0m\n\u001b[1;32m      1\u001b[0m \u001b[0mjob_index\u001b[0m \u001b[0;34m=\u001b[0m \u001b[0;36m1\u001b[0m\u001b[0;34m\u001b[0m\u001b[0;34m\u001b[0m\u001b[0m\n\u001b[0;32m----> 2\u001b[0;31m forward_model(output_path, job_index, lens_data, n_keep, realization_priors, \n\u001b[0m\u001b[1;32m      3\u001b[0m               \u001b[0mmacromodel_priors\u001b[0m\u001b[0;34m,\u001b[0m \u001b[0mtolerance\u001b[0m\u001b[0;34m=\u001b[0m\u001b[0msummary_statistic_tolerance\u001b[0m\u001b[0;34m,\u001b[0m\u001b[0;34m\u001b[0m\u001b[0;34m\u001b[0m\u001b[0m\n\u001b[1;32m      4\u001b[0m                   \u001b[0mverbose\u001b[0m\u001b[0;34m=\u001b[0m\u001b[0;32mTrue\u001b[0m\u001b[0;34m,\u001b[0m \u001b[0mtest_mode\u001b[0m\u001b[0;34m=\u001b[0m\u001b[0;32mTrue\u001b[0m\u001b[0;34m,\u001b[0m \u001b[0msave_realizations\u001b[0m\u001b[0;34m=\u001b[0m\u001b[0;32mTrue\u001b[0m\u001b[0;34m,\u001b[0m\u001b[0;34m\u001b[0m\u001b[0;34m\u001b[0m\u001b[0m\n\u001b[1;32m      5\u001b[0m              \u001b[0mreadout_macromodel_samples\u001b[0m\u001b[0;34m=\u001b[0m\u001b[0;32mTrue\u001b[0m\u001b[0;34m,\u001b[0m \u001b[0mn_macro\u001b[0m\u001b[0;34m=\u001b[0m\u001b[0;36m4\u001b[0m\u001b[0;34m,\u001b[0m\u001b[0;34m\u001b[0m\u001b[0;34m\u001b[0m\u001b[0m\n",
      "\u001b[0;32m~/Code/quadmodel/quadmodel/inference/forward_model.py\u001b[0m in \u001b[0;36mforward_model\u001b[0;34m(output_path, job_index, lens_data_class, n_keep, kwargs_sample_realization, kwargs_sample_macromodel, tolerance, verbose, readout_steps, kwargs_realization_other, ray_tracing_optimization, test_mode, save_realizations, crit_curves_in_test_mode, write_sampling_rate, importance_weights_function, readout_macromodel_samples, n_macro, realization_class, shift_background_realization, readout_kappagamma_statistics, readout_curvedarc_statistics, diff_scale_list, subtract_exact_mass_sheets, log_mlow_mass_sheet, random_seed, rescale_grid_size, rescale_grid_resolution, index_lens_split)\u001b[0m\n\u001b[1;32m    149\u001b[0m         \u001b[0mstat\u001b[0m\u001b[0;34m,\u001b[0m \u001b[0mrealization_samples\u001b[0m\u001b[0;34m,\u001b[0m \u001b[0msource_samples\u001b[0m\u001b[0;34m,\u001b[0m \u001b[0mmacromodel_samples\u001b[0m\u001b[0;34m,\u001b[0m \u001b[0mparam_names_realization\u001b[0m\u001b[0;34m,\u001b[0m\u001b[0;31m \u001b[0m\u001b[0;31m\\\u001b[0m\u001b[0;34m\u001b[0m\u001b[0;34m\u001b[0m\u001b[0m\n\u001b[1;32m    150\u001b[0m         \u001b[0mparam_names_source\u001b[0m\u001b[0;34m,\u001b[0m \u001b[0mparam_names_macro\u001b[0m\u001b[0;34m,\u001b[0m \u001b[0mlens_system\u001b[0m\u001b[0;34m,\u001b[0m \u001b[0mlens_data_class_sampling\u001b[0m\u001b[0;34m,\u001b[0m \u001b[0mimportance_weight\u001b[0m\u001b[0;34m,\u001b[0m \u001b[0mmodel_mags\u001b[0m\u001b[0;34m,\u001b[0m\u001b[0;31m \u001b[0m\u001b[0;31m\\\u001b[0m\u001b[0;34m\u001b[0m\u001b[0;34m\u001b[0m\u001b[0m\n\u001b[0;32m--> 151\u001b[0;31m         kwargs_multiplane_model = _evaluate_model(lens_data_class, kwargs_sample_realization, kwargs_realization_other,\n\u001b[0m\u001b[1;32m    152\u001b[0m                                                   \u001b[0mkwargs_sample_macromodel\u001b[0m\u001b[0;34m,\u001b[0m \u001b[0mray_tracing_optimization\u001b[0m\u001b[0;34m,\u001b[0m \u001b[0mtest_mode\u001b[0m\u001b[0;34m,\u001b[0m\u001b[0;34m\u001b[0m\u001b[0;34m\u001b[0m\u001b[0m\n\u001b[1;32m    153\u001b[0m                                                   \u001b[0mverbose\u001b[0m\u001b[0;34m,\u001b[0m \u001b[0mcrit_curves_in_test_mode\u001b[0m\u001b[0;34m,\u001b[0m\u001b[0;34m\u001b[0m\u001b[0;34m\u001b[0m\u001b[0m\n",
      "\u001b[0;32m~/Code/quadmodel/quadmodel/inference/forward_model_util.py\u001b[0m in \u001b[0;36m_evaluate_model\u001b[0;34m(lens_data_class, kwargs_sample_realization, kwargs_realization_other, kwargs_sample_macromodel, ray_tracing_optimization, test_mode, verbose, crit_curves_in_test_mode, importance_weights_function, realization_class, shift_background_realization, subtract_exact_mass_sheets, log_mlow_mass_sheet, rescale_grid_size, rescale_grid_resolution, index_lens_split, seed)\u001b[0m\n\u001b[1;32m    167\u001b[0m             \u001b[0mlens_model_hessian\u001b[0m \u001b[0;34m=\u001b[0m \u001b[0mLensModel\u001b[0m\u001b[0;34m(\u001b[0m\u001b[0;34m**\u001b[0m\u001b[0mkwargs_multiplane_lens_model_full_grid\u001b[0m\u001b[0;34m)\u001b[0m\u001b[0;34m\u001b[0m\u001b[0;34m\u001b[0m\u001b[0m\n\u001b[1;32m    168\u001b[0m         \u001b[0;32melse\u001b[0m\u001b[0;34m:\u001b[0m\u001b[0;34m\u001b[0m\u001b[0;34m\u001b[0m\u001b[0m\n\u001b[0;32m--> 169\u001b[0;31m             lens_system.plot_images(lens_data_class_sampling.x, lens_data_class_sampling.y, source_size_pc,\n\u001b[0m\u001b[1;32m    170\u001b[0m                                     \u001b[0mlens_model_full\u001b[0m\u001b[0;34m,\u001b[0m\u001b[0;34m\u001b[0m\u001b[0;34m\u001b[0m\u001b[0m\n\u001b[1;32m    171\u001b[0m                                     \u001b[0mkwargs_lens_final\u001b[0m\u001b[0;34m,\u001b[0m\u001b[0;34m\u001b[0m\u001b[0;34m\u001b[0m\u001b[0m\n",
      "\u001b[0;32m~/Code/quadmodel/quadmodel/quad_model.py\u001b[0m in \u001b[0;36mplot_images\u001b[0;34m(self, x, y, source_fwhm_pc, lens_model, kwargs_lensmodel, grid_rmax, grid_resolution, grid_resolution_rescale, grid_size_rescale, source_model, decoupled_multi_plane, index_lens_split, lens_model_init, kwargs_lens_init, **kwargs_magnification_finite)\u001b[0m\n\u001b[1;32m    493\u001b[0m         \u001b[0;32melse\u001b[0m\u001b[0;34m:\u001b[0m\u001b[0;34m\u001b[0m\u001b[0;34m\u001b[0m\u001b[0m\n\u001b[1;32m    494\u001b[0m             \u001b[0;32mif\u001b[0m \u001b[0msource_model\u001b[0m \u001b[0;34m==\u001b[0m \u001b[0;34m'GAUSSIAN'\u001b[0m\u001b[0;34m:\u001b[0m\u001b[0;34m\u001b[0m\u001b[0;34m\u001b[0m\u001b[0m\n\u001b[0;32m--> 495\u001b[0;31m                 plot_quasar_images(lens_model, x, y, source_x, source_y, kwargs_lensmodel,\n\u001b[0m\u001b[1;32m    496\u001b[0m                                                                          \u001b[0msource_fwhm_pc\u001b[0m\u001b[0;34m,\u001b[0m\u001b[0;34m\u001b[0m\u001b[0;34m\u001b[0m\u001b[0m\n\u001b[1;32m    497\u001b[0m                                                                          \u001b[0mself\u001b[0m\u001b[0;34m.\u001b[0m\u001b[0mzsource\u001b[0m\u001b[0;34m,\u001b[0m \u001b[0mself\u001b[0m\u001b[0;34m.\u001b[0m\u001b[0mastropy\u001b[0m\u001b[0;34m,\u001b[0m\u001b[0;34m\u001b[0m\u001b[0;34m\u001b[0m\u001b[0m\n",
      "\u001b[0;32m~/Code/external/lenstronomy/lenstronomy/Plots/plot_quasar_images.py\u001b[0m in \u001b[0;36mplot_quasar_images\u001b[0;34m(lens_model, x_image, y_image, source_x, source_y, kwargs_lens, source_fwhm_parsec, z_source, cosmo, grid_resolution, grid_radius_arcsec, source_light_model, dx, dy, size_scale, amp_scale)\u001b[0m\n\u001b[1;32m    125\u001b[0m         \u001b[0;32melse\u001b[0m\u001b[0;34m:\u001b[0m\u001b[0;34m\u001b[0m\u001b[0;34m\u001b[0m\u001b[0m\n\u001b[1;32m    126\u001b[0m             \u001b[0mlens_model_extension\u001b[0m \u001b[0;34m=\u001b[0m \u001b[0mLensModelExtensions\u001b[0m\u001b[0;34m(\u001b[0m\u001b[0mlens_model\u001b[0m\u001b[0;34m)\u001b[0m\u001b[0;34m\u001b[0m\u001b[0;34m\u001b[0m\u001b[0m\n\u001b[0;32m--> 127\u001b[0;31m             flux_array = lens_model_extension._magnification_adaptive_iteration(\n\u001b[0m\u001b[1;32m    128\u001b[0m                 \u001b[0mflux_array\u001b[0m\u001b[0;34m,\u001b[0m\u001b[0;34m\u001b[0m\u001b[0;34m\u001b[0m\u001b[0m\n\u001b[1;32m    129\u001b[0m                 \u001b[0mxi\u001b[0m\u001b[0;34m,\u001b[0m\u001b[0;34m\u001b[0m\u001b[0;34m\u001b[0m\u001b[0m\n",
      "\u001b[0;32m~/Code/external/lenstronomy/lenstronomy/LensModel/lens_model_extensions.py\u001b[0m in \u001b[0;36m_magnification_adaptive_iteration\u001b[0;34m(flux_array, x_image, y_image, grid_x, grid_y, grid_r, r_min, r_max, lensModel, kwargs_lens, source_model, kwargs_source)\u001b[0m\n\u001b[1;32m    239\u001b[0m         \u001b[0mxcoords\u001b[0m \u001b[0;34m=\u001b[0m \u001b[0mgrid_x\u001b[0m\u001b[0;34m[\u001b[0m\u001b[0minds\u001b[0m\u001b[0;34m]\u001b[0m \u001b[0;34m+\u001b[0m \u001b[0mx_image\u001b[0m\u001b[0;34m\u001b[0m\u001b[0;34m\u001b[0m\u001b[0m\n\u001b[1;32m    240\u001b[0m         \u001b[0mycoords\u001b[0m \u001b[0;34m=\u001b[0m \u001b[0mgrid_y\u001b[0m\u001b[0;34m[\u001b[0m\u001b[0minds\u001b[0m\u001b[0;34m]\u001b[0m \u001b[0;34m+\u001b[0m \u001b[0my_image\u001b[0m\u001b[0;34m\u001b[0m\u001b[0;34m\u001b[0m\u001b[0m\n\u001b[0;32m--> 241\u001b[0;31m         \u001b[0mbeta_x\u001b[0m\u001b[0;34m,\u001b[0m \u001b[0mbeta_y\u001b[0m \u001b[0;34m=\u001b[0m \u001b[0mlensModel\u001b[0m\u001b[0;34m.\u001b[0m\u001b[0mray_shooting\u001b[0m\u001b[0;34m(\u001b[0m\u001b[0mxcoords\u001b[0m\u001b[0;34m,\u001b[0m \u001b[0mycoords\u001b[0m\u001b[0;34m,\u001b[0m \u001b[0mkwargs_lens\u001b[0m\u001b[0;34m)\u001b[0m\u001b[0;34m\u001b[0m\u001b[0;34m\u001b[0m\u001b[0m\n\u001b[0m\u001b[1;32m    242\u001b[0m         \u001b[0mflux_in_pixels\u001b[0m \u001b[0;34m=\u001b[0m \u001b[0msource_model\u001b[0m\u001b[0;34m.\u001b[0m\u001b[0msurface_brightness\u001b[0m\u001b[0;34m(\u001b[0m\u001b[0mbeta_x\u001b[0m\u001b[0;34m,\u001b[0m \u001b[0mbeta_y\u001b[0m\u001b[0;34m,\u001b[0m \u001b[0mkwargs_source\u001b[0m\u001b[0;34m)\u001b[0m\u001b[0;34m\u001b[0m\u001b[0;34m\u001b[0m\u001b[0m\n\u001b[1;32m    243\u001b[0m         \u001b[0mflux_array\u001b[0m\u001b[0;34m[\u001b[0m\u001b[0minds\u001b[0m\u001b[0;34m]\u001b[0m \u001b[0;34m=\u001b[0m \u001b[0mflux_in_pixels\u001b[0m\u001b[0;34m\u001b[0m\u001b[0;34m\u001b[0m\u001b[0m\n",
      "\u001b[0;32m~/Code/external/lenstronomy/lenstronomy/LensModel/lens_model.py\u001b[0m in \u001b[0;36mray_shooting\u001b[0;34m(self, x, y, kwargs, k)\u001b[0m\n\u001b[1;32m    169\u001b[0m         \u001b[0;34m:\u001b[0m\u001b[0;32mreturn\u001b[0m\u001b[0;34m:\u001b[0m \u001b[0msource\u001b[0m \u001b[0mplane\u001b[0m \u001b[0mpositions\u001b[0m \u001b[0mcorresponding\u001b[0m \u001b[0mto\u001b[0m \u001b[0;34m(\u001b[0m\u001b[0mx\u001b[0m\u001b[0;34m,\u001b[0m \u001b[0my\u001b[0m\u001b[0;34m)\u001b[0m \u001b[0;32min\u001b[0m \u001b[0mthe\u001b[0m \u001b[0mimage\u001b[0m \u001b[0mplane\u001b[0m\u001b[0;34m\u001b[0m\u001b[0;34m\u001b[0m\u001b[0m\n\u001b[1;32m    170\u001b[0m         \"\"\"\n\u001b[0;32m--> 171\u001b[0;31m         \u001b[0;32mreturn\u001b[0m \u001b[0mself\u001b[0m\u001b[0;34m.\u001b[0m\u001b[0mlens_model\u001b[0m\u001b[0;34m.\u001b[0m\u001b[0mray_shooting\u001b[0m\u001b[0;34m(\u001b[0m\u001b[0mx\u001b[0m\u001b[0;34m,\u001b[0m \u001b[0my\u001b[0m\u001b[0;34m,\u001b[0m \u001b[0mkwargs\u001b[0m\u001b[0;34m,\u001b[0m \u001b[0mk\u001b[0m\u001b[0;34m=\u001b[0m\u001b[0mk\u001b[0m\u001b[0;34m)\u001b[0m\u001b[0;34m\u001b[0m\u001b[0;34m\u001b[0m\u001b[0m\n\u001b[0m\u001b[1;32m    172\u001b[0m \u001b[0;34m\u001b[0m\u001b[0m\n\u001b[1;32m    173\u001b[0m     def fermat_potential(\n",
      "\u001b[0;32m~/Code/external/lenstronomy/lenstronomy/LensModel/MultiPlane/multi_plane.py\u001b[0m in \u001b[0;36mray_shooting\u001b[0;34m(self, theta_x, theta_y, kwargs_lens, check_convention, k)\u001b[0m\n\u001b[1;32m    144\u001b[0m         \u001b[0malpha_x\u001b[0m \u001b[0;34m=\u001b[0m \u001b[0mnp\u001b[0m\u001b[0;34m.\u001b[0m\u001b[0marray\u001b[0m\u001b[0;34m(\u001b[0m\u001b[0mtheta_x\u001b[0m\u001b[0;34m)\u001b[0m\u001b[0;34m\u001b[0m\u001b[0;34m\u001b[0m\u001b[0m\n\u001b[1;32m    145\u001b[0m         \u001b[0malpha_y\u001b[0m \u001b[0;34m=\u001b[0m \u001b[0mnp\u001b[0m\u001b[0;34m.\u001b[0m\u001b[0marray\u001b[0m\u001b[0;34m(\u001b[0m\u001b[0mtheta_y\u001b[0m\u001b[0;34m)\u001b[0m\u001b[0;34m\u001b[0m\u001b[0;34m\u001b[0m\u001b[0m\n\u001b[0;32m--> 146\u001b[0;31m         x, y, _, _ = self._multi_plane_base.ray_shooting_partial(\n\u001b[0m\u001b[1;32m    147\u001b[0m             \u001b[0mx\u001b[0m\u001b[0;34m,\u001b[0m\u001b[0;34m\u001b[0m\u001b[0;34m\u001b[0m\u001b[0m\n\u001b[1;32m    148\u001b[0m             \u001b[0my\u001b[0m\u001b[0;34m,\u001b[0m\u001b[0;34m\u001b[0m\u001b[0;34m\u001b[0m\u001b[0m\n",
      "\u001b[0;32m~/Code/external/lenstronomy/lenstronomy/LensModel/MultiPlane/multi_plane_base.py\u001b[0m in \u001b[0;36mray_shooting_partial\u001b[0;34m(self, x, y, alpha_x, alpha_y, z_start, z_stop, kwargs_lens, include_z_start, T_ij_start, T_ij_end)\u001b[0m\n\u001b[1;32m    162\u001b[0m                     \u001b[0mdelta_T\u001b[0m \u001b[0;34m=\u001b[0m \u001b[0mself\u001b[0m\u001b[0;34m.\u001b[0m\u001b[0m_T_ij_list\u001b[0m\u001b[0;34m[\u001b[0m\u001b[0mi\u001b[0m\u001b[0;34m]\u001b[0m\u001b[0;34m\u001b[0m\u001b[0;34m\u001b[0m\u001b[0m\n\u001b[1;32m    163\u001b[0m                 \u001b[0mx\u001b[0m\u001b[0;34m,\u001b[0m \u001b[0my\u001b[0m \u001b[0;34m=\u001b[0m \u001b[0mself\u001b[0m\u001b[0;34m.\u001b[0m\u001b[0m_ray_step_add\u001b[0m\u001b[0;34m(\u001b[0m\u001b[0mx\u001b[0m\u001b[0;34m,\u001b[0m \u001b[0my\u001b[0m\u001b[0;34m,\u001b[0m \u001b[0malpha_x\u001b[0m\u001b[0;34m,\u001b[0m \u001b[0malpha_y\u001b[0m\u001b[0;34m,\u001b[0m \u001b[0mdelta_T\u001b[0m\u001b[0;34m)\u001b[0m\u001b[0;34m\u001b[0m\u001b[0;34m\u001b[0m\u001b[0m\n\u001b[0;32m--> 164\u001b[0;31m                 alpha_x, alpha_y = self._add_deflection(\n\u001b[0m\u001b[1;32m    165\u001b[0m                     \u001b[0mx\u001b[0m\u001b[0;34m,\u001b[0m \u001b[0my\u001b[0m\u001b[0;34m,\u001b[0m \u001b[0malpha_x\u001b[0m\u001b[0;34m,\u001b[0m \u001b[0malpha_y\u001b[0m\u001b[0;34m,\u001b[0m \u001b[0mkwargs_lens\u001b[0m\u001b[0;34m,\u001b[0m \u001b[0mi\u001b[0m\u001b[0;34m\u001b[0m\u001b[0;34m\u001b[0m\u001b[0m\n\u001b[1;32m    166\u001b[0m                 )\n",
      "\u001b[0;32m~/Code/external/lenstronomy/lenstronomy/LensModel/MultiPlane/multi_plane_base.py\u001b[0m in \u001b[0;36m_add_deflection\u001b[0;34m(self, x, y, alpha_x, alpha_y, kwargs_lens, index)\u001b[0m\n\u001b[1;32m    404\u001b[0m         \u001b[0mtheta_x\u001b[0m\u001b[0;34m,\u001b[0m \u001b[0mtheta_y\u001b[0m \u001b[0;34m=\u001b[0m \u001b[0mself\u001b[0m\u001b[0;34m.\u001b[0m\u001b[0m_co_moving2angle\u001b[0m\u001b[0;34m(\u001b[0m\u001b[0mx\u001b[0m\u001b[0;34m,\u001b[0m \u001b[0my\u001b[0m\u001b[0;34m,\u001b[0m \u001b[0mindex\u001b[0m\u001b[0;34m)\u001b[0m\u001b[0;34m\u001b[0m\u001b[0;34m\u001b[0m\u001b[0m\n\u001b[1;32m    405\u001b[0m         \u001b[0mk\u001b[0m \u001b[0;34m=\u001b[0m \u001b[0mself\u001b[0m\u001b[0;34m.\u001b[0m\u001b[0m_sorted_redshift_index\u001b[0m\u001b[0;34m[\u001b[0m\u001b[0mindex\u001b[0m\u001b[0;34m]\u001b[0m\u001b[0;34m\u001b[0m\u001b[0;34m\u001b[0m\u001b[0m\n\u001b[0;32m--> 406\u001b[0;31m         alpha_x_red, alpha_y_red = self.func_list[k].derivatives(\n\u001b[0m\u001b[1;32m    407\u001b[0m             \u001b[0mtheta_x\u001b[0m\u001b[0;34m,\u001b[0m \u001b[0mtheta_y\u001b[0m\u001b[0;34m,\u001b[0m \u001b[0;34m**\u001b[0m\u001b[0mkwargs_lens\u001b[0m\u001b[0;34m[\u001b[0m\u001b[0mk\u001b[0m\u001b[0;34m]\u001b[0m\u001b[0;34m\u001b[0m\u001b[0;34m\u001b[0m\u001b[0m\n\u001b[1;32m    408\u001b[0m         )\n",
      "\u001b[0;32m~/Code/external/lenstronomy/lenstronomy/LensModel/Profiles/tnfw.py\u001b[0m in \u001b[0;36mderivatives\u001b[0;34m(self, x, y, Rs, alpha_Rs, r_trunc, center_x, center_y)\u001b[0m\n\u001b[1;32m    127\u001b[0m         \u001b[0mR\u001b[0m \u001b[0;34m=\u001b[0m \u001b[0mnp\u001b[0m\u001b[0;34m.\u001b[0m\u001b[0msqrt\u001b[0m\u001b[0;34m(\u001b[0m\u001b[0mx_\u001b[0m\u001b[0;34m**\u001b[0m\u001b[0;36m2\u001b[0m \u001b[0;34m+\u001b[0m \u001b[0my_\u001b[0m\u001b[0;34m**\u001b[0m\u001b[0;36m2\u001b[0m\u001b[0;34m)\u001b[0m\u001b[0;34m\u001b[0m\u001b[0;34m\u001b[0m\u001b[0m\n\u001b[1;32m    128\u001b[0m         \u001b[0mR\u001b[0m \u001b[0;34m=\u001b[0m \u001b[0mnp\u001b[0m\u001b[0;34m.\u001b[0m\u001b[0mmaximum\u001b[0m\u001b[0;34m(\u001b[0m\u001b[0mR\u001b[0m\u001b[0;34m,\u001b[0m \u001b[0mself\u001b[0m\u001b[0;34m.\u001b[0m\u001b[0m_s\u001b[0m \u001b[0;34m*\u001b[0m \u001b[0mRs\u001b[0m\u001b[0;34m)\u001b[0m\u001b[0;34m\u001b[0m\u001b[0;34m\u001b[0m\u001b[0m\n\u001b[0;32m--> 129\u001b[0;31m         \u001b[0mf_x\u001b[0m\u001b[0;34m,\u001b[0m \u001b[0mf_y\u001b[0m \u001b[0;34m=\u001b[0m \u001b[0mself\u001b[0m\u001b[0;34m.\u001b[0m\u001b[0mnfwAlpha\u001b[0m\u001b[0;34m(\u001b[0m\u001b[0mR\u001b[0m\u001b[0;34m,\u001b[0m \u001b[0mRs\u001b[0m\u001b[0;34m,\u001b[0m \u001b[0mrho0_input\u001b[0m\u001b[0;34m,\u001b[0m \u001b[0mr_trunc\u001b[0m\u001b[0;34m,\u001b[0m \u001b[0mx_\u001b[0m\u001b[0;34m,\u001b[0m \u001b[0my_\u001b[0m\u001b[0;34m)\u001b[0m\u001b[0;34m\u001b[0m\u001b[0;34m\u001b[0m\u001b[0m\n\u001b[0m\u001b[1;32m    130\u001b[0m         \u001b[0;32mreturn\u001b[0m \u001b[0mf_x\u001b[0m\u001b[0;34m,\u001b[0m \u001b[0mf_y\u001b[0m\u001b[0;34m\u001b[0m\u001b[0;34m\u001b[0m\u001b[0m\n\u001b[1;32m    131\u001b[0m \u001b[0;34m\u001b[0m\u001b[0m\n",
      "\u001b[0;32m~/Code/external/lenstronomy/lenstronomy/LensModel/Profiles/tnfw.py\u001b[0m in \u001b[0;36mnfwAlpha\u001b[0;34m(self, R, Rs, rho0, r_trunc, ax_x, ax_y)\u001b[0m\n\u001b[1;32m    262\u001b[0m         \u001b[0mx\u001b[0m \u001b[0;34m=\u001b[0m \u001b[0mnp\u001b[0m\u001b[0;34m.\u001b[0m\u001b[0mmaximum\u001b[0m\u001b[0;34m(\u001b[0m\u001b[0mx\u001b[0m\u001b[0;34m,\u001b[0m \u001b[0mself\u001b[0m\u001b[0;34m.\u001b[0m\u001b[0m_s\u001b[0m\u001b[0;34m)\u001b[0m\u001b[0;34m\u001b[0m\u001b[0;34m\u001b[0m\u001b[0m\n\u001b[1;32m    263\u001b[0m         \u001b[0mtau\u001b[0m \u001b[0;34m=\u001b[0m \u001b[0mfloat\u001b[0m\u001b[0;34m(\u001b[0m\u001b[0mr_trunc\u001b[0m\u001b[0;34m)\u001b[0m \u001b[0;34m/\u001b[0m \u001b[0mRs\u001b[0m\u001b[0;34m\u001b[0m\u001b[0;34m\u001b[0m\u001b[0m\n\u001b[0;32m--> 264\u001b[0;31m         \u001b[0mgx\u001b[0m \u001b[0;34m=\u001b[0m \u001b[0mself\u001b[0m\u001b[0;34m.\u001b[0m\u001b[0m_g\u001b[0m\u001b[0;34m(\u001b[0m\u001b[0mx\u001b[0m\u001b[0;34m,\u001b[0m \u001b[0mtau\u001b[0m\u001b[0;34m)\u001b[0m\u001b[0;34m\u001b[0m\u001b[0;34m\u001b[0m\u001b[0m\n\u001b[0m\u001b[1;32m    265\u001b[0m         \u001b[0ma\u001b[0m \u001b[0;34m=\u001b[0m \u001b[0;36m4\u001b[0m \u001b[0;34m*\u001b[0m \u001b[0mrho0\u001b[0m \u001b[0;34m*\u001b[0m \u001b[0mRs\u001b[0m \u001b[0;34m*\u001b[0m \u001b[0mgx\u001b[0m \u001b[0;34m/\u001b[0m \u001b[0mx\u001b[0m\u001b[0;34m**\u001b[0m\u001b[0;36m2\u001b[0m\u001b[0;34m\u001b[0m\u001b[0;34m\u001b[0m\u001b[0m\n\u001b[1;32m    266\u001b[0m         \u001b[0;32mreturn\u001b[0m \u001b[0ma\u001b[0m \u001b[0;34m*\u001b[0m \u001b[0max_x\u001b[0m\u001b[0;34m,\u001b[0m \u001b[0ma\u001b[0m \u001b[0;34m*\u001b[0m \u001b[0max_y\u001b[0m\u001b[0;34m\u001b[0m\u001b[0;34m\u001b[0m\u001b[0m\n",
      "\u001b[0;32m~/Code/external/lenstronomy/lenstronomy/LensModel/Profiles/tnfw.py\u001b[0m in \u001b[0;36m_g\u001b[0;34m(self, x, tau)\u001b[0m\n\u001b[1;32m    353\u001b[0m             \u001b[0;34m*\u001b[0m \u001b[0;34m(\u001b[0m\u001b[0mtau\u001b[0m\u001b[0;34m**\u001b[0m\u001b[0;36m2\u001b[0m \u001b[0;34m+\u001b[0m \u001b[0;36m1\u001b[0m\u001b[0;34m)\u001b[0m \u001b[0;34m**\u001b[0m \u001b[0;34m-\u001b[0m\u001b[0;36m2\u001b[0m\u001b[0;34m\u001b[0m\u001b[0;34m\u001b[0m\u001b[0m\n\u001b[1;32m    354\u001b[0m             * (\n\u001b[0;32m--> 355\u001b[0;31m                 \u001b[0;34m(\u001b[0m\u001b[0mtau\u001b[0m\u001b[0;34m**\u001b[0m\u001b[0;36m2\u001b[0m \u001b[0;34m+\u001b[0m \u001b[0;36m1\u001b[0m \u001b[0;34m+\u001b[0m \u001b[0;36m2\u001b[0m \u001b[0;34m*\u001b[0m \u001b[0;34m(\u001b[0m\u001b[0mx\u001b[0m\u001b[0;34m**\u001b[0m\u001b[0;36m2\u001b[0m \u001b[0;34m-\u001b[0m \u001b[0;36m1\u001b[0m\u001b[0;34m)\u001b[0m\u001b[0;34m)\u001b[0m \u001b[0;34m*\u001b[0m \u001b[0mself\u001b[0m\u001b[0;34m.\u001b[0m\u001b[0mF\u001b[0m\u001b[0;34m(\u001b[0m\u001b[0mx\u001b[0m\u001b[0;34m)\u001b[0m\u001b[0;34m\u001b[0m\u001b[0;34m\u001b[0m\u001b[0m\n\u001b[0m\u001b[1;32m    356\u001b[0m                 \u001b[0;34m+\u001b[0m \u001b[0mtau\u001b[0m \u001b[0;34m*\u001b[0m \u001b[0mnp\u001b[0m\u001b[0;34m.\u001b[0m\u001b[0mpi\u001b[0m\u001b[0;34m\u001b[0m\u001b[0;34m\u001b[0m\u001b[0m\n\u001b[1;32m    357\u001b[0m                 \u001b[0;34m+\u001b[0m \u001b[0;34m(\u001b[0m\u001b[0mtau\u001b[0m\u001b[0;34m**\u001b[0m\u001b[0;36m2\u001b[0m \u001b[0;34m-\u001b[0m \u001b[0;36m1\u001b[0m\u001b[0;34m)\u001b[0m \u001b[0;34m*\u001b[0m \u001b[0mnp\u001b[0m\u001b[0;34m.\u001b[0m\u001b[0mlog\u001b[0m\u001b[0;34m(\u001b[0m\u001b[0mtau\u001b[0m\u001b[0;34m)\u001b[0m\u001b[0;34m\u001b[0m\u001b[0;34m\u001b[0m\u001b[0m\n",
      "\u001b[0;32m~/Code/external/lenstronomy/lenstronomy/LensModel/Profiles/tnfw.py\u001b[0m in \u001b[0;36mF\u001b[0;34m(self, x)\u001b[0m\n\u001b[1;32m     87\u001b[0m             \u001b[0mnfwvals\u001b[0m \u001b[0;34m=\u001b[0m \u001b[0mnp\u001b[0m\u001b[0;34m.\u001b[0m\u001b[0mzeros_like\u001b[0m\u001b[0;34m(\u001b[0m\u001b[0mx\u001b[0m\u001b[0;34m)\u001b[0m\u001b[0;34m\u001b[0m\u001b[0;34m\u001b[0m\u001b[0m\n\u001b[1;32m     88\u001b[0m             \u001b[0minds1\u001b[0m \u001b[0;34m=\u001b[0m \u001b[0mnp\u001b[0m\u001b[0;34m.\u001b[0m\u001b[0mwhere\u001b[0m\u001b[0;34m(\u001b[0m\u001b[0mx\u001b[0m \u001b[0;34m<\u001b[0m \u001b[0;36m1\u001b[0m\u001b[0;34m)\u001b[0m\u001b[0;34m\u001b[0m\u001b[0;34m\u001b[0m\u001b[0m\n\u001b[0;32m---> 89\u001b[0;31m             \u001b[0minds2\u001b[0m \u001b[0;34m=\u001b[0m \u001b[0mnp\u001b[0m\u001b[0;34m.\u001b[0m\u001b[0mwhere\u001b[0m\u001b[0;34m(\u001b[0m\u001b[0mx\u001b[0m \u001b[0;34m>\u001b[0m \u001b[0;36m1\u001b[0m\u001b[0;34m)\u001b[0m\u001b[0;34m\u001b[0m\u001b[0;34m\u001b[0m\u001b[0m\n\u001b[0m\u001b[1;32m     90\u001b[0m             \u001b[0minds3\u001b[0m \u001b[0;34m=\u001b[0m \u001b[0mnp\u001b[0m\u001b[0;34m.\u001b[0m\u001b[0mwhere\u001b[0m\u001b[0;34m(\u001b[0m\u001b[0mx\u001b[0m \u001b[0;34m==\u001b[0m \u001b[0;36m1\u001b[0m\u001b[0;34m)\u001b[0m\u001b[0;34m\u001b[0m\u001b[0;34m\u001b[0m\u001b[0m\n\u001b[1;32m     91\u001b[0m             nfwvals[inds1] = (1 - x[inds1] ** 2) ** -0.5 * np.arctanh(\n",
      "\u001b[0;32m~/anaconda3/lib/python3.8/site-packages/numpy/core/overrides.py\u001b[0m in \u001b[0;36mwhere\u001b[0;34m(*args, **kwargs)\u001b[0m\n",
      "\u001b[0;31mKeyboardInterrupt\u001b[0m: "
     ]
    }
   ],
   "source": [
    "job_index = 1\n",
    "forward_model(output_path, job_index, lens_data, n_keep, realization_priors, \n",
    "              macromodel_priors, tolerance=summary_statistic_tolerance, \n",
    "                  verbose=True, test_mode=True, save_realizations=True, \n",
    "             readout_macromodel_samples=True, n_macro=4, \n",
    "             subtract_exact_mass_sheets=True, log_mlow_mass_sheet=6.0, random_seed=2,\n",
    "             ray_tracing_optimization='default', rescale_grid_resolution=2.0,\n",
    "             rescale_grid_size=1.0, index_lens_split=[0,1])\n",
    "\n",
    "# new: 1.23, 0.89, 0.42\n",
    "# old: 1.21, 0.83, 0.42\n",
    "\n",
    "# new: 1.22, 0.67, 0.32\n",
    "# old: 1.23, 0.67, 0.34\n",
    "\n",
    "# new: 4.03, 0.80, 1.53\n",
    "# old: 2.5767117058397084, 0.9149895514116598, 1.818035929833114\n",
    "\n",
    "# new: 1.00, 1.25, 0.85\n",
    "# old: 0.84, 1.08, 0.76"
   ]
  },
  {
   "cell_type": "code",
   "execution_count": null,
   "metadata": {
    "scrolled": false
   },
   "outputs": [],
   "source": [
    "job_index = 1\n",
    "forward_model(output_path, job_index, lens_data, n_keep, realization_priors, \n",
    "              macromodel_priors, tolerance=summary_statistic_tolerance, \n",
    "                  verbose=True, test_mode=True, save_realizations=True, \n",
    "             readout_macromodel_samples=True, n_macro=4, \n",
    "             subtract_exact_mass_sheets=True, log_mlow_mass_sheet=7.0, random_seed=2,\n",
    "             ray_tracing_optimization='STANDARD', rescale_grid_resolution=1.0,\n",
    "             rescale_grid_size=1.0, index_lens_split=[0,1])"
   ]
  },
  {
   "cell_type": "markdown",
   "metadata": {},
   "source": [
    "### Run with seed 2"
   ]
  },
  {
   "cell_type": "code",
   "execution_count": null,
   "metadata": {
    "scrolled": false
   },
   "outputs": [],
   "source": [
    "job_index = 2\n",
    "forward_model(output_path, job_index, lens_data, n_keep, realization_priors, \n",
    "              macromodel_priors, tolerance=summary_statistic_tolerance, \n",
    "                  verbose=True, test_mode=True, save_realizations=True, \n",
    "             readout_kappagamma_statistics=False, readout_curvedarc_statistics=False, \n",
    "             readout_macromodel_samples=True, n_macro=4, diff_scale_list=[0.0001, 0.025, 0.1],\n",
    "             subtract_exact_mass_sheets=True, log_mlow_mass_sheet=7.0, random_seed=1,\n",
    "             ray_tracing_optimization='DECOUPLED_MULTI_PLANE', rescale_grid_resolution=2.0)"
   ]
  },
  {
   "cell_type": "markdown",
   "metadata": {
    "scrolled": false
   },
   "source": [
    "### Examine the output\n",
    "\n",
    "The simulation output includes files named fluxes.txt, parameters.txt, and simulation_output_1, simulation_output_2, etc."
   ]
  },
  {
   "cell_type": "code",
   "execution_count": null,
   "metadata": {},
   "outputs": [],
   "source": [
    "f = open(output_path + 'job_'+str(job_index)+'/parameters.txt', 'r')\n",
    "param_names = f.readlines()[0]\n",
    "print('PARAMETER NAMES:')\n",
    "print(param_names)\n",
    "f.close()\n",
    "\n",
    "accepeted_parameters = np.loadtxt(output_path + 'job_'+str(job_index)+'/parameters.txt', skiprows=1)\n",
    "print('ACCEPTED PARAMETERS:')\n",
    "print(accepeted_parameters)\n",
    "# the first set of parameters are the ones specified in kwargs_realization (see cell #2), the rest are the source size, \n",
    "# macromodel parameters, and the last parameter is the summary statistic\n",
    "\n",
    "accepeted_mags = np.loadtxt(output_path + 'job_'+str(job_index)+'/fluxes.txt')\n",
    "print('\\nACCEPTED MAGNIFICATIONS:')\n",
    "print(accepeted_mags)\n",
    "\n",
    "kappa_gamma_statistics = np.loadtxt(output_path + 'job_'+str(job_index)+'/kappa_gamma_statistics.txt', skiprows=1)\n",
    "print('\\nCONVERGENCE AND SHEAR: ')\n",
    "print(kappa_gamma_statistics)\n",
    "print(kappa_gamma_statistics.shape)\n",
    "\n",
    "curved_arc_statistics = np.loadtxt(output_path + 'job_'+str(job_index)+'/curvedarc_statistics.txt', skiprows=1)\n",
    "print('\\nCURVED ARC STATISTICS: ')\n",
    "print(curved_arc_statistics)\n",
    "print(curved_arc_statistics.shape)"
   ]
  },
  {
   "cell_type": "markdown",
   "metadata": {},
   "source": [
    "### Visualize accepeted realizations\n",
    "\n",
    "The pickeled classes in simulation_output allow you to visualize the accepeted realizations"
   ]
  },
  {
   "cell_type": "code",
   "execution_count": null,
   "metadata": {},
   "outputs": [],
   "source": [
    "import pickle\n",
    "f = open(output_path + 'job_'+str(job_index)+'/simulation_output_2', 'rb')\n",
    "simulation_output = pickle.load(f)\n",
    "f.close()\n",
    "x_image, y_image = simulation_output.data.x, simulation_output.data.y\n",
    "lens_system = simulation_output.lens_system\n",
    "\n",
    "npix = 150\n",
    "rminmax = 1.25\n",
    "_r = np.linspace(-rminmax, rminmax, npix)\n",
    "xx, yy = np.meshgrid(_r, _r)\n",
    "shape0 = xx.shape\n",
    "lensmodel, kwargs_lens = lens_system.get_lensmodel()\n",
    "lensmodel_macro, kwargs_macro = lens_system.get_macro_lensmodel(4)\n",
    "\n",
    "kappa = lensmodel.kappa(xx.ravel(), yy.ravel(), kwargs_lens).reshape(shape0)\n",
    "kappa_macro = lensmodel_macro.kappa(xx.ravel(), yy.ravel(), kwargs_lens).reshape(shape0)\n",
    "\n",
    "# print(kappa)\n",
    "# print(kappa_macro)"
   ]
  },
  {
   "cell_type": "code",
   "execution_count": null,
   "metadata": {},
   "outputs": [],
   "source": [
    "import matplotlib.pyplot as plt\n",
    "\n",
    "vminmax = 0.05\n",
    "kappa_subs_nonlinear = kappa - kappa_macro\n",
    "extent = [-rminmax, rminmax, -rminmax, rminmax]\n",
    "\n",
    "fig = plt.figure(1)\n",
    "fig.set_size_inches(8, 8)\n",
    "plt.imshow(kappa_subs_nonlinear, vmin=-vminmax, vmax=vminmax, origin='lower', cmap='bwr', \n",
    "           extent=extent)\n",
    "plt.scatter(x_image, y_image, color='k')\n",
    "plt.show()\n",
    "\n",
    "source_size_pc = accepeted_parameters[0, 4]\n",
    "#lens_system.plot_images(x_image, y_image, source_size_pc, lensmodel, kwargs_lens)"
   ]
  },
  {
   "cell_type": "markdown",
   "metadata": {},
   "source": [
    "### Check convergence, shear, and curved arc properties"
   ]
  },
  {
   "cell_type": "code",
   "execution_count": null,
   "metadata": {},
   "outputs": [],
   "source": [
    "from lenstronomy.LensModel.lens_model_extensions import LensModelExtensions\n",
    "#from quadmodel.Solvers.light_fit_util import split_by_image_curvedarc, split_by_scale_curvedarc\n",
    "\n",
    "def split_curved_arc_params(params, keep_scale=1):\n",
    "    rs_scale1 = params[:,0:4]\n",
    "    rs_scale2 = params[:,4:8]\n",
    "    rs_scale3 = params[:,8:12]\n",
    "    ts_scale1 = params[:,12:16]\n",
    "    ts_scale2 = params[:,16:20]\n",
    "    ts_scale3 = params[:,20:24]\n",
    "    curv_scale1 = params[:,24:28]\n",
    "    curv_scale2 = params[:,28:32]\n",
    "    curv_scale3 = params[:,32:36]\n",
    "    dir_scale1 = params[:,36:40]\n",
    "    dir_scale2 = params[:,40:44]\n",
    "    dir_scale3 = params[:,44:48]\n",
    "    dtandtan_scale1 = params[:,48:52]\n",
    "    dtandtan_scale2 = params[:,52:56]\n",
    "    dtandtan_scale3 = params[:,56:60]\n",
    "    if keep_scale==1:\n",
    "        rs = rs_scale1\n",
    "        ts = ts_scale1\n",
    "        curv = curv_scale1\n",
    "        direction = dir_scale1\n",
    "        dtan_dtan = dtandtan_scale1\n",
    "    elif keep_scale==2:\n",
    "        rs = rs_scale2\n",
    "        ts = ts_scale2\n",
    "        curv = curv_scale2\n",
    "        direction = dir_scale2\n",
    "        dtan_dtan = dtandtan_scale2\n",
    "    elif keep_scale==3:\n",
    "        rs = rs_scale3\n",
    "        ts = ts_scale3\n",
    "        curv = curv_scale3\n",
    "        direction = dir_scale3\n",
    "        dtan_dtan = dtandtan_scale3\n",
    "    image1 = np.array([rs[0], ts[0], curv[0], direction[0], dtan_dtan[0]])\n",
    "    image2 = np.array([rs[1], ts[1], curv[1], direction[1], dtan_dtan[1]])\n",
    "    image3 = np.array([rs[2], ts[2], curv[2], direction[2], dtan_dtan[2]])\n",
    "    image4 = np.array([rs[3], ts[3], curv[3], direction[3], dtan_dtan[3]])\n",
    "    return image1.T, image2.T, image3.T, image4.T\n",
    "        \n",
    "simulation_index = 1\n",
    "f = open(output_path + 'job_'+str(job_index)+'/simulation_output_'+str(simulation_index), 'rb')\n",
    "simulation_output = pickle.load(f)\n",
    "f.close()\n",
    "x_image, y_image = simulation_output.data.x, simulation_output.data.y\n",
    "lens_system = simulation_output.lens_system\n",
    "lensmodel, kwargs_lens = lens_system.get_lensmodel()\n",
    "\n",
    "ext = LensModelExtensions(lensmodel)\n",
    "\n",
    "kwargs_arc_image1 = ext.curved_arc_estimate(x_image[0], y_image[0], kwargs_lens, tan_diff=True)\n",
    "kwargs_arc_image2 = ext.curved_arc_estimate(x_image[1], y_image[1], kwargs_lens, tan_diff=True)\n",
    "kwargs_arc_image3 = ext.curved_arc_estimate(x_image[2], y_image[2], kwargs_lens, tan_diff=True)\n",
    "kwargs_arc_image4 = ext.curved_arc_estimate(x_image[3], y_image[3], kwargs_lens, tan_diff=True)\n",
    "\n",
    "image1, image2, image3, image4 = split_curved_arc_params(curved_arc_statistics)\n",
    "print(image1[0,:])\n",
    "print(kwargs_arc_image1)"
   ]
  },
  {
   "cell_type": "code",
   "execution_count": null,
   "metadata": {},
   "outputs": [],
   "source": [
    "xi = 0.5\n",
    "yi = 0.1\n",
    "s = 0.3\n",
    "_r = np.linspace(-s/2, s/2, 13)\n",
    "xx, yy = np.meshgrid(_r, _r)\n",
    "xx += xi\n",
    "yy += yi\n",
    "print(xx)\n",
    "\n",
    "print(11%2)"
   ]
  },
  {
   "cell_type": "code",
   "execution_count": null,
   "metadata": {},
   "outputs": [],
   "source": []
  }
 ],
 "metadata": {
  "kernelspec": {
   "display_name": "Python 3",
   "language": "python",
   "name": "python3"
  },
  "language_info": {
   "codemirror_mode": {
    "name": "ipython",
    "version": 3
   },
   "file_extension": ".py",
   "mimetype": "text/x-python",
   "name": "python",
   "nbconvert_exporter": "python",
   "pygments_lexer": "ipython3",
   "version": "3.8.10"
  }
 },
 "nbformat": 4,
 "nbformat_minor": 2
}
